{
 "cells": [
  {
   "cell_type": "markdown",
   "metadata": {},
   "source": [
    "Object-oriented design is more art than science sometimes. There's many approaches. Let's look at a few."
   ]
  },
  {
   "cell_type": "markdown",
   "metadata": {},
   "source": [
    "# Zed Shaw's advice\n",
    "\n",
    "In [_Learn Python the Hard Way_](https://learnpythonthehardway.org/), Zed Shaw has good advice for object-oriented design:\n",
    "\n",
    "1. Write or draw about the problem.\n",
    "2. Extract key concepts from 1 and research them.\n",
    "3. Create a class hierarchy and object map for the concepts.\n",
    "4. Code the classes and a test to run them.\n",
    "5. Repeat and refine.\n",
    "\n",
    "Let's do this as a class for a hypothetical college registration system."
   ]
  },
  {
   "cell_type": "markdown",
   "metadata": {},
   "source": [
    "### Step 1: Write down the problem in plain English (or draw it).\n",
    "\n",
    "* Each class has a limited number of seats.\n",
    "* Students pick the class they want to take.\n",
    "* They are registered if there are seats left; otherwise, they're on a waiting list.\n",
    "* Classes can have prerequisites.\n",
    "* Some students can register earlier than others. Implied: there's a time where registration opens.\n",
    "* Students can only have a limited number of credits. Each class has X credits associated with it.\n",
    "* Each class has multiple sessions; the sessions are at different datetimes.\n",
    "* When registering, you cannot register for class sessions at the same time."
   ]
  },
  {
   "cell_type": "markdown",
   "metadata": {},
   "source": [
    "### Step 2: Extract key concepts from 1 and research them.\n",
    "\n",
    "Look at the narrative from 1 and pull out all the nouns and verbs. The nouns will likely become classes, and the verbs their methods.\n",
    "\n",
    "#### Nouns\n",
    "\n",
    "* Courses\n",
    "* Course sessions\n",
    "* Students\n",
    "* Credits\n",
    "* Prerequisites\n",
    "* Seats in course\n",
    "* Registration opening dates\n",
    "\n",
    "#### Verbs\n",
    "\n",
    "* Course session\n",
    "  * register\n",
    "* Students\n",
    "  * register"
   ]
  },
  {
   "cell_type": "markdown",
   "metadata": {},
   "source": [
    "### Step 3: Create a class hierarchy and object map for the concepts.\n",
    "\n",
    "A class hierarchy might lead to inheritance. Do two classes seem alike? Do they share the same behaviors?"
   ]
  },
  {
   "cell_type": "markdown",
   "metadata": {},
   "source": [
    "### Step 4: Code the classes and a test to run them."
   ]
  },
  {
   "cell_type": "markdown",
   "metadata": {},
   "source": [
    "### Step 5: Repeat and refine."
   ]
  },
  {
   "cell_type": "markdown",
   "metadata": {},
   "source": [
    "# CRC Cards\n",
    "\n",
    "_CRC_ stands for _Class-Responsibility-Collaborators_. This is a really old technique, and generally works with whatever you're doing to generate your list of classes. You take an index card and write down this:\n",
    "\n",
    "<table>\n",
    "<tr><th colspan=\"2\">Class</th></tr>\n",
    "<tr>\n",
    "<td>\n",
    "Responsibilities<br />\n",
    "...\n",
    "</td>\n",
    "<td>\n",
    "Collaborators<br />\n",
    "...\n",
    "</td>\n",
    "</tr>\n",
    "</table>\n",
    "\n",
    "Let's make cards for our college enrollment system."
   ]
  },
  {
   "cell_type": "markdown",
   "metadata": {},
   "source": [
    "Read more about CRC Cards:\n",
    "    \n",
    "* [CRC cards on Wikipedia](https://en.wikipedia.org/wiki/Class-responsibility-collaboration_card)\n",
    "* [The paper proposing CRC cards](http://c2.com/doc/oopsla89/paper.html)\n",
    "* [CRC cards on the C2 Wiki](http://c2.com/cgi/wiki?CrcCard)"
   ]
  },
  {
   "cell_type": "markdown",
   "metadata": {},
   "source": [
    "# Object-Oriented Principles"
   ]
  },
  {
   "cell_type": "markdown",
   "metadata": {},
   "source": [
    "There are different sets of principles people use when designing classes. They all share similarities.\n",
    "\n",
    "The most popular one you might see is called __SOLID__.\n",
    "\n",
    "* Single-Responsibility Principle\n",
    "* Open-Closed Principle\n",
    "* Liskov Substitution Principle\n",
    "* Interface Segregation Principle\n",
    "* Dependency Inversion Principle\n",
    "\n",
    "For my money, that is really wordy and hard to understand.\n",
    "\n",
    "My simplification is called __RISE__.\n",
    "\n",
    "* Replicate existing interfaces\n",
    "* Isolate side effects\n",
    "* Single Responsibility Principle\n",
    "* Easily testable\n",
    "\n",
    "I really like the simplicity of using one principle:\n",
    "\n",
    "**The Principle of Essential Representation (PER)**\n",
    "\n",
    "Simply put, this principle states that:\n",
    "\n",
    "* a definition should contain all essential definitions (this generally means, in the definition of a class, the definitions of its state & behavior characteristics, or methods, properties and events)\n",
    "* all inessential definitions should be contained in other, related definitions"
   ]
  }
 ],
 "metadata": {
  "kernelspec": {
   "display_name": "Python 3",
   "language": "python",
   "name": "python3"
  },
  "language_info": {
   "codemirror_mode": {
    "name": "ipython",
    "version": 3
   },
   "file_extension": ".py",
   "mimetype": "text/x-python",
   "name": "python",
   "nbconvert_exporter": "python",
   "pygments_lexer": "ipython3",
   "version": "3.9.5"
  }
 },
 "nbformat": 4,
 "nbformat_minor": 1
}
