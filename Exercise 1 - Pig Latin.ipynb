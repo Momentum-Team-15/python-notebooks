{
 "cells": [
  {
   "cell_type": "markdown",
   "metadata": {},
   "source": [
    "The usual rules for changing standard English into Pig Latin are as follows:\n",
    "\n",
    "For words that begin with consonant sounds, the initial consonant or consonant cluster is moved to the end of the word, and \"ay\" is added, as in the following examples:\n",
    "\n",
    "* \"pig\" → \"igpay\"\n",
    "* \"banana\" → \"ananabay\"\n",
    "* \"trash\" → \"ashtray\"\n",
    "* \"happy\" → \"appyhay\"\n",
    "* \"duck\" → \"uckday\"\n",
    "* \"glove\" → \"oveglay\"\n",
    "\n",
    "For words that begin with vowel sounds or a silent letter, you just add \"way\" to the end. Examples are:\n",
    "\n",
    "* \"egg\" → \"eggway\"\n",
    "* \"inbox\" → \"inboxway\"\n",
    "* \"eight\" → \"eightway\""
   ]
  },
  {
   "cell_type": "markdown",
   "metadata": {},
   "source": [
    "Create a function called `pig_latin` that takes a string with a word, phrase, or sentence and converts it into Pig Latin.\n",
    "\n",
    "This will be easiest to solve if you start with the simplest case, a word starting with one consonant, and build up from there."
   ]
  }
 ],
 "metadata": {
  "kernelspec": {
   "display_name": "Python 3",
   "language": "python",
   "name": "python3"
  },
  "language_info": {
   "codemirror_mode": {
    "name": "ipython",
    "version": 3
   },
   "file_extension": ".py",
   "mimetype": "text/x-python",
   "name": "python",
   "nbconvert_exporter": "python",
   "pygments_lexer": "ipython3",
   "version": "3.7.0"
  }
 },
 "nbformat": 4,
 "nbformat_minor": 1
}
