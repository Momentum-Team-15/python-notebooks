{
 "cells": [
  {
   "cell_type": "markdown",
   "metadata": {},
   "source": [
    "# Functions"
   ]
  },
  {
   "cell_type": "markdown",
   "metadata": {},
   "source": [
    "Functions give you a way to reuse bits of code again and again, wherever you need it in your program. Use the keyword `def` in Python to declare a function (similar to how you use the `function` keyword in JavaScript).\n",
    "\n",
    "Instead of curly brackets like JavaScript uses, in Python we use a colon and an indented code block. Function definitions should be followed by two newlines to indicate the end of the function."
   ]
  },
  {
   "cell_type": "code",
   "execution_count": null,
   "metadata": {},
   "outputs": [],
   "source": [
    "pi = 3.14159\n",
    "\n",
    "def circumference(radius):\n",
    "    \"\"\"Given the radius of a circle, return the circumference.\"\"\"\n",
    "    return radius * 2 * pi\n",
    "\n",
    "print(circumference(2))\n",
    "print(circumference(3))"
   ]
  },
  {
   "cell_type": "code",
   "execution_count": null,
   "metadata": {},
   "outputs": [],
   "source": [
    "tube_size = 10\n",
    "tube_circumference = circumference(tube_size)\n",
    "print(tube_circumference)"
   ]
  },
  {
   "cell_type": "code",
   "execution_count": null,
   "metadata": {},
   "outputs": [],
   "source": [
    "tube_size = float(input(\"What's your tube size? \"))\n",
    "print(\"Your tube circumference is\", circumference(tube_size))"
   ]
  },
  {
   "cell_type": "code",
   "execution_count": null,
   "metadata": {},
   "outputs": [],
   "source": [
    "help(circumference)"
   ]
  },
  {
   "cell_type": "markdown",
   "metadata": {},
   "source": [
    "Functions have a name, parameters, a docstring, and a return value. Parameters are in parentheses after the name. You can think of them as the blank spots in the template. Their values get filled in when the function is later called. There can be more than one parameter.\n",
    "\n",
    "The return value is defined by using the `return` keyword. It is the value that the function will return when called."
   ]
  },
  {
   "cell_type": "code",
   "execution_count": null,
   "metadata": {},
   "outputs": [],
   "source": [
    "def rectangle_area(width, height):\n",
    "    \"\"\"Given the width and height of a rectangle, return the area.\"\"\"\n",
    "    return width * height\n",
    "\n",
    "print(rectangle_area(5, 8))"
   ]
  },
  {
   "cell_type": "markdown",
   "metadata": {},
   "source": [
    "When you call a function, the values you give it are called _arguments_. You can specify them in order, like we just did, or by name."
   ]
  },
  {
   "cell_type": "code",
   "execution_count": null,
   "metadata": {},
   "outputs": [],
   "source": [
    "print(rectangle_area(height=8, width=5))"
   ]
  },
  {
   "cell_type": "markdown",
   "metadata": {},
   "source": [
    "Functions can call other functions."
   ]
  },
  {
   "cell_type": "code",
   "execution_count": null,
   "metadata": {},
   "outputs": [],
   "source": [
    "def square_area(length):\n",
    "    \"\"\"Returns the area of a square given the length of one side.\"\"\"\n",
    "    return rectangle_area(length, length)\n",
    "\n",
    "print(square_area(9))"
   ]
  },
  {
   "cell_type": "markdown",
   "metadata": {},
   "source": [
    "Functions can have _default arguments_."
   ]
  },
  {
   "cell_type": "code",
   "execution_count": null,
   "metadata": {},
   "outputs": [],
   "source": [
    "def inc(number, amount=1):\n",
    "    \"\"\"Increments the number.\n",
    "    \n",
    "    Keyword arguments:\n",
    "    number -- the number to increment\n",
    "    amount -- the amount to increment (default 1)\n",
    "    \"\"\"\n",
    "    return number + amount\n",
    "\n",
    "print(inc(10))\n",
    "print(inc(10, amount=5))\n",
    "print(inc(10, 2))\n",
    "print(inc(amount=5, number=20))"
   ]
  },
  {
   "cell_type": "code",
   "execution_count": null,
   "metadata": {},
   "outputs": [],
   "source": [
    "help(inc)"
   ]
  },
  {
   "cell_type": "markdown",
   "metadata": {},
   "source": [
    "Functions can be made of multiple lines, of course."
   ]
  },
  {
   "cell_type": "code",
   "execution_count": null,
   "metadata": {},
   "outputs": [],
   "source": [
    "def name(first, last, middle=None, last_name_first=False):\n",
    "    \"\"\"Returns the name of a person. \n",
    "    First and last name are required. The middle name is not. If the middle name\n",
    "    is one character, it is assumed to be an initial and a period will be added.\n",
    "    \n",
    "    Keyword arguments:\n",
    "    first -- the first name\n",
    "    last -- the last name\n",
    "    middle -- middle name or initial (default None)\n",
    "    last_name_first -- do you want the last name printed first? (default False)\n",
    "    \"\"\"\n",
    "    if middle is None:\n",
    "        first_part = first\n",
    "    else:\n",
    "        if len(middle) == 1:\n",
    "            middle = middle + \".\"\n",
    "\n",
    "        first_part = first + \" \" + middle\n",
    "\n",
    "        \n",
    "    if last_name_first:\n",
    "        return last + \", \" + first_part\n",
    "    else:\n",
    "        return first_part + \" \" + last\n",
    "    \n",
    "print(name(first=\"Carter\", last=\"Nelson\"))\n",
    "print(name(first=\"Carter\", last=\"Nelson\", middle=\"P\"))\n",
    "print(name(first=\"Carter\", last=\"Nelson\", middle=\"Phoenix\"))\n",
    "print(name(first=\"Carter\", last=\"Nelson\", middle=\"P\", last_name_first=True))\n",
    "        "
   ]
  },
  {
   "cell_type": "code",
   "execution_count": null,
   "metadata": {},
   "outputs": [],
   "source": [
    "name(\"Clinton\", \"D\")"
   ]
  }
 ],
 "metadata": {
  "kernelspec": {
   "display_name": "Python 3 (ipykernel)",
   "language": "python",
   "name": "python3"
  },
  "language_info": {
   "codemirror_mode": {
    "name": "ipython",
    "version": 3
   },
   "file_extension": ".py",
   "mimetype": "text/x-python",
   "name": "python",
   "nbconvert_exporter": "python",
   "pygments_lexer": "ipython3",
   "version": "3.9.6"
  }
 },
 "nbformat": 4,
 "nbformat_minor": 1
}
