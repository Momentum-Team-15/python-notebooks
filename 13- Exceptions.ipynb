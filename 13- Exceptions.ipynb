{
 "cells": [
  {
   "cell_type": "markdown",
   "metadata": {},
   "source": [
    "## Why exceptions?"
   ]
  },
  {
   "cell_type": "markdown",
   "metadata": {},
   "source": [
    "Exceptions are used to handle errors that happen during program execution. Most errors we've seen so far are caught when Python reads your program, but errors can happen while the program is running, like when you divide by zero or try to open a file that does not exist.\n",
    "\n",
    "The main thing we need to know about exceptions at this time is how to handle them."
   ]
  },
  {
   "cell_type": "code",
   "execution_count": 8,
   "metadata": {},
   "outputs": [
    {
     "name": "stdout",
     "output_type": "stream",
     "text": [
      "Let's turn a fraction into a decimal.\n",
      "Numerator: 10\n",
      "Denominator: a\n",
      "You didn't enter two numbers.\n"
     ]
    }
   ],
   "source": [
    "print(\"Let's turn a fraction into a decimal.\")\n",
    "numerator = input(\"Numerator: \")\n",
    "denominator = input(\"Denominator: \")\n",
    "\n",
    "try:\n",
    "    print(\"The result is {}.\".format(float(numerator) / float(denominator)))\n",
    "except ZeroDivisionError as e:\n",
    "    print(\"You cannot divide by zero!\")\n",
    "    print(type(e))\n",
    "    print(e)  \n",
    "except ValueError:\n",
    "    print(\"You didn't enter two numbers.\")\n",
    "except:\n",
    "    print(\"Some other error happened!\")"
   ]
  },
  {
   "cell_type": "markdown",
   "metadata": {},
   "source": [
    "## Common exceptions you will see\n",
    "\n",
    "* AttributeError - when you try to access an attribute that doesn't exist on an object\n",
    "* IndexError - when you try to access an index that doesn't exist on an object\n",
    "* KeyError - when you try to access a key that doesn't exist on a dict\n",
    "* NameError - when you try to use a variable that is undefined\n",
    "* RuntimeError - general-purpose error\n",
    "* ValueError - when you call a function with an argument that cannot work\n",
    "* ZeroDivisionError - when you divide by zero"
   ]
  },
  {
   "cell_type": "markdown",
   "metadata": {},
   "source": [
    "## Raising your own exceptions\n",
    "\n",
    "If you have an event worthy of an exception in your own code, you can raise an exception. You should try to handle errors when possible, but if there is an unhandleable situation in your code, an exception is warranted."
   ]
  },
  {
   "cell_type": "code",
   "execution_count": 9,
   "metadata": {},
   "outputs": [],
   "source": [
    "import re\n",
    "import random\n",
    "\n",
    "def roll_dice(dice):\n",
    "    match = re.match(\"(\\d+)d(\\d+)\", dice)\n",
    "    if match is None:\n",
    "        raise ValueError(\"Not a valid dice expression\")\n",
    "    \n",
    "    number, size = [int(x) for x in match.groups()]\n",
    "    \n",
    "    return sum([random.randint(1, size) for _ in range(number)])"
   ]
  },
  {
   "cell_type": "code",
   "execution_count": 11,
   "metadata": {},
   "outputs": [
    {
     "data": {
      "text/plain": [
       "12"
      ]
     },
     "execution_count": 11,
     "metadata": {},
     "output_type": "execute_result"
    }
   ],
   "source": [
    "roll_dice(\"3d6\")"
   ]
  },
  {
   "cell_type": "code",
   "execution_count": 15,
   "metadata": {},
   "outputs": [
    {
     "name": "stdout",
     "output_type": "stream",
     "text": [
      "Str 11\n",
      "Dex 9\n",
      "Con 13\n",
      "Int 11\n",
      "Wis 13\n",
      "Cha 10\n"
     ]
    }
   ],
   "source": [
    "print(f\"Str {roll_dice('3d6')}\")\n",
    "print(f\"Dex {roll_dice('3d6')}\")\n",
    "print(f\"Con {roll_dice('3d6')}\")\n",
    "print(f\"Int {roll_dice('3d6')}\")\n",
    "print(f\"Wis {roll_dice('3d6')}\")\n",
    "print(f\"Cha {roll_dice('3d6')}\")      "
   ]
  },
  {
   "cell_type": "code",
   "execution_count": 12,
   "metadata": {},
   "outputs": [
    {
     "data": {
      "text/plain": [
       "4727"
      ]
     },
     "execution_count": 12,
     "metadata": {},
     "output_type": "execute_result"
    }
   ],
   "source": [
    "roll_dice(\"100d100\")"
   ]
  },
  {
   "cell_type": "code",
   "execution_count": 13,
   "metadata": {},
   "outputs": [
    {
     "ename": "ValueError",
     "evalue": "Not a valid dice expression",
     "output_type": "error",
     "traceback": [
      "\u001b[0;31m---------------------------------------------------------------------------\u001b[0m",
      "\u001b[0;31mValueError\u001b[0m                                Traceback (most recent call last)",
      "\u001b[0;32m<ipython-input-13-ce74cb152850>\u001b[0m in \u001b[0;36m<module>\u001b[0;34m\u001b[0m\n\u001b[0;32m----> 1\u001b[0;31m \u001b[0mroll_dice\u001b[0m\u001b[0;34m(\u001b[0m\u001b[0;34m\"12\"\u001b[0m\u001b[0;34m)\u001b[0m\u001b[0;34m\u001b[0m\u001b[0;34m\u001b[0m\u001b[0m\n\u001b[0m",
      "\u001b[0;32m<ipython-input-9-e058a2a1110f>\u001b[0m in \u001b[0;36mroll_dice\u001b[0;34m(dice)\u001b[0m\n\u001b[1;32m      5\u001b[0m     \u001b[0mmatch\u001b[0m \u001b[0;34m=\u001b[0m \u001b[0mre\u001b[0m\u001b[0;34m.\u001b[0m\u001b[0mmatch\u001b[0m\u001b[0;34m(\u001b[0m\u001b[0;34m\"(\\d+)d(\\d+)\"\u001b[0m\u001b[0;34m,\u001b[0m \u001b[0mdice\u001b[0m\u001b[0;34m)\u001b[0m\u001b[0;34m\u001b[0m\u001b[0;34m\u001b[0m\u001b[0m\n\u001b[1;32m      6\u001b[0m     \u001b[0;32mif\u001b[0m \u001b[0mmatch\u001b[0m \u001b[0;32mis\u001b[0m \u001b[0;32mNone\u001b[0m\u001b[0;34m:\u001b[0m\u001b[0;34m\u001b[0m\u001b[0;34m\u001b[0m\u001b[0m\n\u001b[0;32m----> 7\u001b[0;31m         \u001b[0;32mraise\u001b[0m \u001b[0mValueError\u001b[0m\u001b[0;34m(\u001b[0m\u001b[0;34m\"Not a valid dice expression\"\u001b[0m\u001b[0;34m)\u001b[0m\u001b[0;34m\u001b[0m\u001b[0;34m\u001b[0m\u001b[0m\n\u001b[0m\u001b[1;32m      8\u001b[0m \u001b[0;34m\u001b[0m\u001b[0m\n\u001b[1;32m      9\u001b[0m     \u001b[0mnumber\u001b[0m\u001b[0;34m,\u001b[0m \u001b[0msize\u001b[0m \u001b[0;34m=\u001b[0m \u001b[0;34m[\u001b[0m\u001b[0mint\u001b[0m\u001b[0;34m(\u001b[0m\u001b[0mx\u001b[0m\u001b[0;34m)\u001b[0m \u001b[0;32mfor\u001b[0m \u001b[0mx\u001b[0m \u001b[0;32min\u001b[0m \u001b[0mmatch\u001b[0m\u001b[0;34m.\u001b[0m\u001b[0mgroups\u001b[0m\u001b[0;34m(\u001b[0m\u001b[0;34m)\u001b[0m\u001b[0;34m]\u001b[0m\u001b[0;34m\u001b[0m\u001b[0;34m\u001b[0m\u001b[0m\n",
      "\u001b[0;31mValueError\u001b[0m: Not a valid dice expression"
     ]
    }
   ],
   "source": [
    "roll_dice(\"12\")"
   ]
  },
  {
   "cell_type": "markdown",
   "metadata": {},
   "source": [
    "## Using exceptions for input error handling"
   ]
  },
  {
   "cell_type": "code",
   "execution_count": null,
   "metadata": {},
   "outputs": [],
   "source": [
    "def input_integer(prompt):\n",
    "    result = None\n",
    "    while result is None:\n",
    "        str_input = input(prompt)\n",
    "        if str_input.isnumeric():\n",
    "            result = int(str_input)\n",
    "    return result"
   ]
  },
  {
   "cell_type": "code",
   "execution_count": null,
   "metadata": {},
   "outputs": [],
   "source": [
    "input_integer(\"Give me a number: \")"
   ]
  },
  {
   "cell_type": "code",
   "execution_count": 16,
   "metadata": {},
   "outputs": [],
   "source": [
    "def input_float(prompt):\n",
    "    while True:\n",
    "        try:\n",
    "            return float(input(prompt))\n",
    "        except ValueError:\n",
    "            print(\"That is not a valid input.\")"
   ]
  },
  {
   "cell_type": "code",
   "execution_count": 17,
   "metadata": {},
   "outputs": [
    {
     "name": "stdout",
     "output_type": "stream",
     "text": [
      "Give me a number: a\n",
      "That is not a valid input.\n",
      "Give me a number: 10a\n",
      "That is not a valid input.\n",
      "Give me a number: twelve\n",
      "That is not a valid input.\n",
      "Give me a number: 1.2.3\n",
      "That is not a valid input.\n",
      "Give me a number: 1.2\n"
     ]
    },
    {
     "data": {
      "text/plain": [
       "1.2"
      ]
     },
     "execution_count": 17,
     "metadata": {},
     "output_type": "execute_result"
    }
   ],
   "source": [
    "input_float(\"Give me a number: \")"
   ]
  },
  {
   "cell_type": "code",
   "execution_count": null,
   "metadata": {},
   "outputs": [],
   "source": []
  }
 ],
 "metadata": {
  "kernelspec": {
   "display_name": "Python 3",
   "language": "python",
   "name": "python3"
  },
  "language_info": {
   "codemirror_mode": {
    "name": "ipython",
    "version": 3
   },
   "file_extension": ".py",
   "mimetype": "text/x-python",
   "name": "python",
   "nbconvert_exporter": "python",
   "pygments_lexer": "ipython3",
   "version": "3.7.4"
  }
 },
 "nbformat": 4,
 "nbformat_minor": 1
}
