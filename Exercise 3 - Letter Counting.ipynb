{
 "cells": [
  {
   "cell_type": "markdown",
   "metadata": {},
   "source": [
    "Write a function that takes a string and returns a dictionary with the count of each letter that is in the string. An example:\n",
    "\n",
    "```py\n",
    "letter_count(\"hello world\")\n",
    "# =>\n",
    "{\"h\": 1,\n",
    " \"e\": 1,\n",
    " \"l\": 3,\n",
    " \"o\": 2,\n",
    " \"w\": 1,\n",
    " \"r\": 1,\n",
    " \"d\": 1}\n",
    "```\n",
    "\n",
    "Note that the space is not counted. All letters should also be converted to lower case when counting them."
   ]
  }
 ],
 "metadata": {
  "kernelspec": {
   "display_name": "Python 3",
   "language": "python",
   "name": "python3"
  },
  "language_info": {
   "codemirror_mode": {
    "name": "ipython",
    "version": 3
   },
   "file_extension": ".py",
   "mimetype": "text/x-python",
   "name": "python",
   "nbconvert_exporter": "python",
   "pygments_lexer": "ipython3",
   "version": "3.4.3"
  }
 },
 "nbformat": 4,
 "nbformat_minor": 0
}
