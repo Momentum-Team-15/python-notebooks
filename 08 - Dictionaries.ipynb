{
 "cells": [
  {
   "cell_type": "markdown",
   "metadata": {},
   "source": [
    "Dictionaries are another type of sequence. They map keys to values, like a two-column table."
   ]
  },
  {
   "cell_type": "markdown",
   "metadata": {},
   "source": [
    "<table>\n",
    "    <tr>\n",
    "        <th>Key</th>\n",
    "        <th>Value</th>\n",
    "    </tr>\n",
    "    <tr>\n",
    "        <td>\"Avery\"</td>\n",
    "        <td>\"B\"</td>\n",
    "    </tr>\n",
    "    <tr>\n",
    "        <td>\"Kerry\"</td>\n",
    "        <td>\"A\"</td>\n",
    "    </tr>\n",
    "    <tr>\n",
    "        <td>\"Gale\"</td>\n",
    "        <td>\"B\"</td>\n",
    "    </tr>\n",
    "</table>"
   ]
  },
  {
   "cell_type": "markdown",
   "metadata": {},
   "source": [
    "There are a lot of ways to create dictionaries."
   ]
  },
  {
   "cell_type": "code",
   "execution_count": null,
   "metadata": {},
   "outputs": [],
   "source": [
    "a = {\n",
    "    'one': 1, \n",
    "    'two': 2, \n",
    "    'three': 3,\n",
    "}\n",
    "\n",
    "\n",
    "b = dict(one=1, two=2, three=3)\n",
    "\n",
    "c = dict([('two', 2), ('one', 1), ('three', 3)])\n",
    "\n",
    "a == b == c # this is the same as a == b and b == c"
   ]
  },
  {
   "cell_type": "markdown",
   "metadata": {},
   "source": [
    "As you'd expect, the values in dictionaries can be any object."
   ]
  },
  {
   "cell_type": "code",
   "execution_count": null,
   "metadata": {},
   "outputs": [],
   "source": [
    "{'Jordan': {'Homework 1': 92,\n",
    "            'Homework 2': 87},\n",
    " 'Gale': {'Homework 1': 88,\n",
    "          'Homework 2': 76},\n",
    " 'River': {'Homework 1': 85,\n",
    "           'Homework 2': 91}}b"
   ]
  },
  {
   "cell_type": "markdown",
   "metadata": {},
   "source": [
    "## Accessing values in a dictionary \n",
    "\n",
    "You can access values in the dictionary by using the key in square brackets."
   ]
  },
  {
   "cell_type": "code",
   "execution_count": null,
   "metadata": {},
   "outputs": [],
   "source": [
    "bev_preferences = {\n",
    "    'shelby': 'coffee',\n",
    "    'russell': 'American soda',\n",
    "    'rajee': 'tea',\n",
    "    'blake': 'diet mountain dew',\n",
    "    'joey': 'tea',\n",
    "    'tyler': None,\n",
    "    'amy' : 'coffee'\n",
    "}\n",
    "\n",
    "print('Joey prefers', bev_preferences['joey'])\n",
    "print('Tyler prefers', bev_preferences['tyler'])"
   ]
  },
  {
   "cell_type": "markdown",
   "metadata": {},
   "source": [
    "You can't use index position to get stuff from a dictionary, but you _could_ use intergers as key for a dictionary.\n"
   ]
  },
  {
   "cell_type": "code",
   "execution_count": null,
   "metadata": {},
   "outputs": [],
   "source": [
    "bev_preferences[0] # nope"
   ]
  },
  {
   "cell_type": "code",
   "execution_count": null,
   "metadata": {},
   "outputs": [],
   "source": [
    "comp_sci_classes = {\n",
    "    0: 'CS 100',\n",
    "    1: 'CS 101',\n",
    "    2: 'CS 102',\n",
    "    3: 'CS 200'\n",
    "}\n",
    "\n",
    "print(comp_sci_classes[1])"
   ]
  },
  {
   "cell_type": "code",
   "execution_count": null,
   "metadata": {},
   "outputs": [],
   "source": [
    "student_roster = {'Jordan': {'Homework 1': 92,\n",
    "                             'Homework 2': 87},\n",
    "                  'Gale': {'Homework 1': 88,\n",
    "                           'Homework 2': 76},\n",
    "                  'River': {'Homework 1': 85,\n",
    "                            'Homework 2': 91}}"
   ]
  },
  {
   "cell_type": "code",
   "execution_count": null,
   "metadata": {},
   "outputs": [],
   "source": [
    "student_roster['Jordan']"
   ]
  },
  {
   "cell_type": "code",
   "execution_count": null,
   "metadata": {},
   "outputs": [],
   "source": [
    "student_roster['Jordan']['Homework 1']"
   ]
  },
  {
   "cell_type": "code",
   "execution_count": null,
   "metadata": {},
   "outputs": [],
   "source": [
    "student_roster['Peyton'] = {'Homework 1': 84,\n",
    "                            'Homework 2': 77}\n",
    "print(student_roster)"
   ]
  },
  {
   "cell_type": "code",
   "execution_count": null,
   "metadata": {},
   "outputs": [],
   "source": [
    "del student_roster['Gale']\n",
    "student_roster"
   ]
  },
  {
   "cell_type": "code",
   "execution_count": null,
   "metadata": {},
   "outputs": [],
   "source": [
    "student_roster['Clinton']"
   ]
  },
  {
   "cell_type": "markdown",
   "metadata": {},
   "source": [
    "## Dictionary methods\n",
    "\n",
    "Dictionaries have the methods all sequences have, but they also have their own specific methods."
   ]
  },
  {
   "cell_type": "code",
   "execution_count": null,
   "metadata": {},
   "outputs": [],
   "source": [
    "student_roster.keys()"
   ]
  },
  {
   "cell_type": "code",
   "execution_count": null,
   "metadata": {},
   "outputs": [],
   "source": [
    "student_roster.values()"
   ]
  },
  {
   "cell_type": "code",
   "execution_count": null,
   "metadata": {},
   "outputs": [],
   "source": [
    "student_roster.get('River')"
   ]
  },
  {
   "cell_type": "code",
   "execution_count": null,
   "metadata": {},
   "outputs": [],
   "source": [
    "print(student_roster.get('Marion'))"
   ]
  },
  {
   "cell_type": "code",
   "execution_count": null,
   "metadata": {},
   "outputs": [],
   "source": [
    "# What's the difference between this and .get?\n",
    "student_roster['Marion']"
   ]
  },
  {
   "cell_type": "code",
   "execution_count": null,
   "metadata": {},
   "outputs": [],
   "source": [
    "student_roster.get('Marion', {})"
   ]
  },
  {
   "cell_type": "code",
   "execution_count": null,
   "metadata": {},
   "outputs": [],
   "source": [
    "'Marion' in student_roster"
   ]
  },
  {
   "cell_type": "code",
   "execution_count": null,
   "metadata": {},
   "outputs": [],
   "source": [
    "'River' in student_roster"
   ]
  },
  {
   "cell_type": "markdown",
   "metadata": {},
   "source": [
    "## Dictionaries and for loops"
   ]
  },
  {
   "cell_type": "markdown",
   "metadata": {},
   "source": [
    "How do dictionaries work with for loops?"
   ]
  },
  {
   "cell_type": "code",
   "execution_count": null,
   "metadata": {},
   "outputs": [],
   "source": [
    "for thing in student_roster:\n",
    "    print(thing)"
   ]
  },
  {
   "cell_type": "markdown",
   "metadata": {},
   "source": [
    "That didn't get all the information we wanted. How do we get the values?"
   ]
  },
  {
   "cell_type": "code",
   "execution_count": null,
   "metadata": {},
   "outputs": [],
   "source": [
    "for student in student_roster:\n",
    "    print(student, student_roster[student])"
   ]
  },
  {
   "cell_type": "code",
   "execution_count": null,
   "metadata": {
    "scrolled": true
   },
   "outputs": [],
   "source": [
    "student_roster.items() # returns a list of tuples"
   ]
  },
  {
   "cell_type": "code",
   "execution_count": null,
   "metadata": {},
   "outputs": [],
   "source": [
    "for i in student_roster.items():\n",
    "    print(i)"
   ]
  },
  {
   "cell_type": "code",
   "execution_count": null,
   "metadata": {},
   "outputs": [],
   "source": [
    "# Much easier on the eyes\n",
    "for student, grades in student_roster.items():\n",
    "    print(student, grades)"
   ]
  },
  {
   "cell_type": "code",
   "execution_count": null,
   "metadata": {},
   "outputs": [],
   "source": [
    "# Much easier on the eyes\n",
    "for student, grades in student_roster.items():\n",
    "    print(student)\n",
    "    for assignment, score in grades.items():\n",
    "        print(assignment, score)"
   ]
  },
  {
   "cell_type": "markdown",
   "metadata": {},
   "source": [
    "Something we have to do often in programming is to take data in one form, and transform it so we can use it. \n",
    "\n",
    "In this example, we want to extract part of the data in a dictionary into a list."
   ]
  },
  {
   "cell_type": "code",
   "execution_count": null,
   "metadata": {},
   "outputs": [],
   "source": [
    "# How do I get all scores for Homework 1?\n",
    "\n",
    "print(\"student_roster\", student_roster)\n",
    "hw_scores = []\n",
    "for student, grades in student_roster.items():\n",
    "    hw_scores.append(grades['Homework 1'])\n",
    "print(hw_scores)"
   ]
  }
 ],
 "metadata": {
  "kernelspec": {
   "display_name": "Python 3",
   "language": "python",
   "name": "python3"
  },
  "language_info": {
   "codemirror_mode": {
    "name": "ipython",
    "version": 3
   },
   "file_extension": ".py",
   "mimetype": "text/x-python",
   "name": "python",
   "nbconvert_exporter": "python",
   "pygments_lexer": "ipython3",
   "version": "3.9.5"
  }
 },
 "nbformat": 4,
 "nbformat_minor": 1
}
