{
 "cells": [
  {
   "cell_type": "markdown",
   "metadata": {},
   "source": [
    "One of the best things about working in Python is that you have a lot of code already written that you can use. Python itself comes with its _standard library_. There are third-party libraries you can download. And you can also reuse your own code.\n",
    "\n",
    "We often want to split our code into separate files for organizational purposes. We split our code up by topic. Each file holds a _module_."
   ]
  },
  {
   "cell_type": "code",
   "execution_count": 3,
   "metadata": {},
   "outputs": [
    {
     "name": "stdout",
     "output_type": "stream",
     "text": [
      "2015 1 1\n",
      "12 0 0\n"
     ]
    }
   ],
   "source": [
    "# We can use anything in the datetime module as long as we prefix it.\n",
    "\n",
    "import datetime\n",
    "\n",
    "jan1 = datetime.date(year=2015, month=1, day=1)\n",
    "print(jan1.year, jan1.month, jan1.day)\n",
    "\n",
    "noon = datetime.time(hour=12, minute=0)\n",
    "print(noon.hour, noon.minute, noon.second)"
   ]
  },
  {
   "cell_type": "code",
   "execution_count": 4,
   "metadata": {},
   "outputs": [
    {
     "name": "stdout",
     "output_type": "stream",
     "text": [
      "2015 1 1\n"
     ]
    }
   ],
   "source": [
    "# Or we can use from to get specific functions/types from a module.\n",
    "\n",
    "from datetime import date\n",
    "\n",
    "jan1 = date(year=2015, month=1, day=1)\n",
    "print(jan1.year, jan1.month, jan1.day)"
   ]
  },
  {
   "cell_type": "code",
   "execution_count": 5,
   "metadata": {},
   "outputs": [
    {
     "ename": "NameError",
     "evalue": "name 'time' is not defined",
     "output_type": "error",
     "traceback": [
      "\u001b[0;31m---------------------------------------------------------------------------\u001b[0m",
      "\u001b[0;31mNameError\u001b[0m                                 Traceback (most recent call last)",
      "\u001b[0;32m<ipython-input-5-562e77cd4146>\u001b[0m in \u001b[0;36m<module>\u001b[0;34m\u001b[0m\n\u001b[1;32m      1\u001b[0m \u001b[0;31m# What if we try to use something else we haven't imported?\u001b[0m\u001b[0;34m\u001b[0m\u001b[0;34m\u001b[0m\u001b[0;34m\u001b[0m\u001b[0m\n\u001b[0;32m----> 2\u001b[0;31m \u001b[0mtime\u001b[0m\u001b[0;34m(\u001b[0m\u001b[0mhour\u001b[0m\u001b[0;34m=\u001b[0m\u001b[0;36m12\u001b[0m\u001b[0;34m,\u001b[0m \u001b[0mminute\u001b[0m\u001b[0;34m=\u001b[0m\u001b[0;36m0\u001b[0m\u001b[0;34m)\u001b[0m\u001b[0;34m\u001b[0m\u001b[0;34m\u001b[0m\u001b[0m\n\u001b[0m",
      "\u001b[0;31mNameError\u001b[0m: name 'time' is not defined"
     ]
    }
   ],
   "source": [
    "# What if we try to use something else we haven't imported?\n",
    "time(hour=12, minute=0)"
   ]
  },
  {
   "cell_type": "markdown",
   "metadata": {},
   "source": [
    "Some really important namespaces in the standard library to know:\n",
    "\n",
    "* re\n",
    "* datetime\n",
    "* math\n",
    "* random\n",
    "* statistics\n",
    "* collections\n",
    "* itertools\n",
    "* os\n",
    "* os.path\n",
    "* sys\n",
    "* io\n",
    "* argparse\n",
    "* subprocess\n",
    "* csv\n",
    "* json\n",
    "* urllib"
   ]
  },
  {
   "cell_type": "markdown",
   "metadata": {},
   "source": [
    "## Importing your own modules"
   ]
  },
  {
   "cell_type": "markdown",
   "metadata": {},
   "source": [
    "When you use `import`, it looks for files in a list of paths. You can see these paths like so:"
   ]
  },
  {
   "cell_type": "code",
   "execution_count": 6,
   "metadata": {},
   "outputs": [
    {
     "name": "stdout",
     "output_type": "stream",
     "text": [
      "['/Users/clinton/repos/github.com/momentum-cohort-2019-09/examples/w5--notebooks', '/Users/clinton/.local/share/virtualenvs/examples-FIF_StMm/lib/python37.zip', '/Users/clinton/.local/share/virtualenvs/examples-FIF_StMm/lib/python3.7', '/Users/clinton/.local/share/virtualenvs/examples-FIF_StMm/lib/python3.7/lib-dynload', '/usr/local/Cellar/python/3.7.4_1/Frameworks/Python.framework/Versions/3.7/lib/python3.7', '', '/Users/clinton/.local/share/virtualenvs/examples-FIF_StMm/lib/python3.7/site-packages', '/Users/clinton/.local/share/virtualenvs/examples-FIF_StMm/lib/python3.7/site-packages/IPython/extensions', '/Users/clinton/.ipython']\n"
     ]
    }
   ],
   "source": [
    "import sys\n",
    "print(sys.path)"
   ]
  },
  {
   "cell_type": "markdown",
   "metadata": {},
   "source": [
    "Note that the first one of those is an empty string. `import` will always be able to import things relative to your current directory, which is nice for use in projects.\n",
    "\n",
    "To import a module from a file, use the file name without the `.py`. For example, if you have a file `calculator.py`, you would write:\n",
    "\n",
    "```py\n",
    "import calculator\n",
    "```\n",
    "\n",
    "To navigate directories, use periods. If you have a file `calculator/scientific.py`, you would write:\n",
    "\n",
    "```py\n",
    "import calculator.scientific\n",
    "```\n",
    "\n",
    "or \n",
    "\n",
    "```py\n",
    "from calculator import scientific\n",
    "```"
   ]
  },
  {
   "cell_type": "markdown",
   "metadata": {},
   "source": [
    "In your projects, you might have code that you only want executed if you run a file directly, but you don't want it run if the module is imported. To make that happen, use this:"
   ]
  },
  {
   "cell_type": "code",
   "execution_count": null,
   "metadata": {},
   "outputs": [],
   "source": [
    "if __name__ == \"__main__\":\n",
    "    # do whatever you want when the file is run directly\n",
    "    # i.e. python my_file.py\n",
    "    pass"
   ]
  },
  {
   "cell_type": "markdown",
   "metadata": {},
   "source": [
    "## __init__.py\n",
    "\n",
    "What is `__init__.py`?\n",
    "\n",
    "Files named `__init__.py` are used to mark directories on disk as Python package directories. If you want to nest modules inside directories (like `calculator/scientific.py`), you'll need to put an empty `__init__.py` file in each directory.\n",
    "\n",
    "These files are normally empty, but can be used to set up variables, or hold convenience functions."
   ]
  },
  {
   "cell_type": "markdown",
   "metadata": {},
   "source": [
    "## Installing third-party libraries with Pipenv"
   ]
  },
  {
   "cell_type": "markdown",
   "metadata": {},
   "source": [
    "[Pipenv](https://pipenv.readthedocs.io/en/latest/) is a tool we use to install third-party modules and track which modules are used with a project. To start, run:\n",
    "\n",
    "```\n",
    "pipenv --three\n",
    "```\n",
    "\n",
    "This will create a `Pipfile` and set the version of Python used to Python 3. This will also create a \"virtualenv,\" a Python environment separate from your global Python installation.\n",
    "\n",
    "To install a module, run:\n",
    "\n",
    "```\n",
    "pipenv install <module_name>\n",
    "```\n",
    "\n",
    "If you are downloading a project and need to install everything the project uses, run:\n",
    "\n",
    "```\n",
    "pipenv install\n",
    "```\n",
    "\n",
    "Lastly, to load the virtualenv and start working with a project, run:\n",
    "\n",
    "```\n",
    "pipenv shell\n",
    "```"
   ]
  },
  {
   "cell_type": "markdown",
   "metadata": {},
   "source": [
    "Curated list of libraries: [awesome-python](https://github.com/vinta/awesome-python)"
   ]
  }
 ],
 "metadata": {
  "kernelspec": {
   "display_name": "Python 3",
   "language": "python",
   "name": "python3"
  },
  "language_info": {
   "codemirror_mode": {
    "name": "ipython",
    "version": 3
   },
   "file_extension": ".py",
   "mimetype": "text/x-python",
   "name": "python",
   "nbconvert_exporter": "python",
   "pygments_lexer": "ipython3",
   "version": "3.8.2"
  }
 },
 "nbformat": 4,
 "nbformat_minor": 1
}
