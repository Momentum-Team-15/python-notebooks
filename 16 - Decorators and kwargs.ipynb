{
 "cells": [
  {
   "cell_type": "markdown",
   "metadata": {},
   "source": [
    "# Decorators\n",
    "\n",
    "Decorators are a way to add behavior to a function. They replace a function with a new \"wrapped\" version of that function."
   ]
  },
  {
   "cell_type": "code",
   "execution_count": 1,
   "metadata": {},
   "outputs": [],
   "source": [
    "import functools\n",
    "\n",
    "def debug(fn):\n",
    "    @functools.wraps(fn)\n",
    "    def wrapper(*args, **kwargs):\n",
    "        print(\"Calling\", fn.__name__)\n",
    "        print(\"args:\", args)\n",
    "        print(\"kwargs:\", kwargs)\n",
    "        retval = fn(*args, **kwargs)\n",
    "        print(\"retval:\", retval)\n",
    "        return retval\n",
    "    return wrapper\n",
    "\n",
    "def factorial(n):\n",
    "    if n == 1:\n",
    "        return 1\n",
    "    else:\n",
    "        return n * factorial(n - 1)"
   ]
  },
  {
   "cell_type": "code",
   "execution_count": 2,
   "metadata": {},
   "outputs": [
    {
     "data": {
      "text/plain": [
       "120"
      ]
     },
     "execution_count": 2,
     "metadata": {},
     "output_type": "execute_result"
    }
   ],
   "source": [
    "factorial(5)"
   ]
  },
  {
   "cell_type": "code",
   "execution_count": 3,
   "metadata": {},
   "outputs": [],
   "source": [
    "@debug\n",
    "def factorial2(n):\n",
    "    if n == 1:\n",
    "        return 1\n",
    "    else:\n",
    "        return n * factorial2(n - 1)"
   ]
  },
  {
   "cell_type": "code",
   "execution_count": 4,
   "metadata": {},
   "outputs": [
    {
     "name": "stdout",
     "output_type": "stream",
     "text": [
      "Calling factorial2\n",
      "args: (5,)\n",
      "kwargs: {}\n",
      "Calling factorial2\n",
      "args: (4,)\n",
      "kwargs: {}\n",
      "Calling factorial2\n",
      "args: (3,)\n",
      "kwargs: {}\n",
      "Calling factorial2\n",
      "args: (2,)\n",
      "kwargs: {}\n",
      "Calling factorial2\n",
      "args: (1,)\n",
      "kwargs: {}\n",
      "retval: 1\n",
      "retval: 2\n",
      "retval: 6\n",
      "retval: 24\n",
      "retval: 120\n"
     ]
    },
    {
     "data": {
      "text/plain": [
       "120"
      ]
     },
     "execution_count": 4,
     "metadata": {},
     "output_type": "execute_result"
    }
   ],
   "source": [
    "factorial2(5)"
   ]
  },
  {
   "cell_type": "markdown",
   "metadata": {},
   "source": [
    "Let's look at a decorator that comes with Python. This is the `@property` decorator. It allows you to create methods that act like normal object properties."
   ]
  },
  {
   "cell_type": "code",
   "execution_count": null,
   "metadata": {},
   "outputs": [],
   "source": [
    "class Card:\n",
    "    def __init__(self, rank, suit):\n",
    "        self.rank = rank\n",
    "        self.suit = suit\n",
    "        \n",
    "    def value(self):\n",
    "        if self.rank in [\"K\", \"Q\", \"J\"]:\n",
    "            return 10\n",
    "        elif self.rank == \"A\":\n",
    "            return 1\n",
    "        else:\n",
    "            return int(self.rank)"
   ]
  },
  {
   "cell_type": "code",
   "execution_count": null,
   "metadata": {},
   "outputs": [],
   "source": [
    "nine = Card(\"9\", \"Hearts\")\n",
    "print(nine.rank)\n",
    "print(nine.suit)\n",
    "print(nine.value())"
   ]
  },
  {
   "cell_type": "code",
   "execution_count": null,
   "metadata": {},
   "outputs": [],
   "source": [
    "class Card2:\n",
    "    def __init__(self, rank, suit):\n",
    "        self.rank = rank\n",
    "        self.suit = suit\n",
    "        \n",
    "    @property    \n",
    "    def value(self):\n",
    "        if self.rank in [\"K\", \"Q\", \"J\"]:\n",
    "            return 10\n",
    "        elif self.rank == \"A\":\n",
    "            return 1\n",
    "        else:\n",
    "            return int(self.rank)"
   ]
  },
  {
   "cell_type": "code",
   "execution_count": null,
   "metadata": {},
   "outputs": [],
   "source": [
    "eight = Card2(\"8\", \"Diamonds\")\n",
    "eight.value"
   ]
  },
  {
   "cell_type": "code",
   "execution_count": null,
   "metadata": {},
   "outputs": [],
   "source": [
    "eight.value = 9"
   ]
  },
  {
   "cell_type": "markdown",
   "metadata": {},
   "source": [
    "# kwargs"
   ]
  },
  {
   "cell_type": "code",
   "execution_count": null,
   "metadata": {},
   "outputs": [],
   "source": [
    "def print_table(**kwargs):\n",
    "    \"\"\"Prints a set of keyword arguments as a table.\"\"\"\n",
    "    key_len = max([len(key) for key in kwargs.keys()])\n",
    "    for key, value in kwargs.items():\n",
    "        print(key.ljust(key_len), value)\n",
    "    "
   ]
  },
  {
   "cell_type": "code",
   "execution_count": null,
   "metadata": {},
   "outputs": [],
   "source": [
    "print_table(clinton=\"A\", kelly=\"A\", allison=\"B\", jorgenheimer=\"C\")"
   ]
  }
 ],
 "metadata": {
  "kernelspec": {
   "display_name": "Python 3",
   "language": "python",
   "name": "python3"
  },
  "language_info": {
   "codemirror_mode": {
    "name": "ipython",
    "version": 3
   },
   "file_extension": ".py",
   "mimetype": "text/x-python",
   "name": "python",
   "nbconvert_exporter": "python",
   "pygments_lexer": "ipython3",
   "version": "3.9.5"
  }
 },
 "nbformat": 4,
 "nbformat_minor": 1
}
